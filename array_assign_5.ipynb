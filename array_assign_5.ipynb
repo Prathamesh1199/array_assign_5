{
  "metadata": {
    "language_info": {
      "codemirror_mode": {
        "name": "python",
        "version": 3
      },
      "file_extension": ".py",
      "mimetype": "text/x-python",
      "name": "python",
      "nbconvert_exporter": "python",
      "pygments_lexer": "ipython3",
      "version": "3.8"
    },
    "kernelspec": {
      "name": "python",
      "display_name": "Python (Pyodide)",
      "language": "python"
    }
  },
  "nbformat_minor": 4,
  "nbformat": 4,
  "cells": [
    {
      "cell_type": "markdown",
      "source": "1.<aside>\n💡 **Question 1**\n\nConvert 1D Array Into 2D Array\n\nYou are given a **0-indexed** 1-dimensional (1D) integer array original, and two integers, m and n. You are tasked with creating a 2-dimensional (2D) array with  m rows and n columns using **all** the elements from original.\n\nThe elements from indices 0 to n - 1 (**inclusive**) of original should form the first row of the constructed 2D array, the elements from indices n to 2 * n - 1 (**inclusive**) should form the second row of the constructed 2D array, and so on.\n\nReturn *an* m x n *2D array constructed according to the above procedure, or an empty 2D array if it is impossible*.\n\n**Example 1:**\n\n**Input:** original = [1,2,3,4], m = 2, n = 2\n\n**Output:** [[1,2],[3,4]]\n\n**Explanation:** The constructed 2D array should contain 2 rows and 2 columns.\n\nThe first group of n=2 elements in original, [1,2], becomes the first row in the constructed 2D array.\n\nThe second group of n=2 elements in original, [3,4], becomes the second row in the constructed 2D array.\n\n</aside>",
      "metadata": {}
    },
    {
      "cell_type": "code",
      "source": "def construct2DArray(original, m, n):\n    # Check if the total number of elements in original is equal to m * n\n    if len(original) != m * n:\n        return []\n\n    # Initialize an empty 2D array with m rows and n columns\n    result = [[0] * n for _ in range(m)]\n\n    # Fill the 2D array with elements from original\n    for i in range(len(original)):\n        row = i // n  # Calculate the row index\n        col = i % n   # Calculate the column index\n        result[row][col] = original[i]\n\n    return result\n",
      "metadata": {
        "trusted": true
      },
      "execution_count": 1,
      "outputs": []
    },
    {
      "cell_type": "code",
      "source": "original = [1, 2, 3, 4]\nm = 2\nn = 2\nprint(construct2DArray(original, m, n))\n",
      "metadata": {
        "trusted": true
      },
      "execution_count": 2,
      "outputs": [
        {
          "name": "stdout",
          "text": "[[1, 2], [3, 4]]\n",
          "output_type": "stream"
        }
      ]
    },
    {
      "cell_type": "code",
      "source": "",
      "metadata": {},
      "execution_count": null,
      "outputs": []
    },
    {
      "cell_type": "markdown",
      "source": "2.<aside>\n💡 **Question 2**\n\nYou have n coins and you want to build a staircase with these coins. The staircase consists of k rows where the ith row has exactly i coins. The last row of the staircase **may be** incomplete.\n\nGiven the integer n, return *the number of **complete rows** of the staircase you will build*.\n\n**Example 1:**\n**Input:** n = 5\n\n**Output:** 2\n\n**Explanation:** Because the 3rd row is incomplete, we return 2.\n</aside>",
      "metadata": {}
    },
    {
      "cell_type": "code",
      "source": "import math\n\ndef completeRows(n):\n    k = math.floor((math.sqrt(1 + 8*n) - 1) / 2)\n    return k\n",
      "metadata": {
        "trusted": true
      },
      "execution_count": 5,
      "outputs": []
    },
    {
      "cell_type": "code",
      "source": "# Example\nn = 5\nresult = completeRows(n)\nprint(result)",
      "metadata": {
        "trusted": true
      },
      "execution_count": 6,
      "outputs": [
        {
          "name": "stdout",
          "text": "2\n",
          "output_type": "stream"
        }
      ]
    },
    {
      "cell_type": "code",
      "source": "",
      "metadata": {},
      "execution_count": null,
      "outputs": []
    },
    {
      "cell_type": "markdown",
      "source": "3.Given an integer array nums sorted in **non-decreasing** order, return *an array of **the squares of each number** sorted in non-decreasing order*.\n\n**Example 1:**\n\n**Input:** nums = [-4,-1,0,3,10]\n\n**Output:** [0,1,9,16,100]\n\n**Explanation:** After squaring, the array becomes [16,1,0,9,100].\n\nAfter sorting, it becomes [0,1,9,16,100].",
      "metadata": {}
    },
    {
      "cell_type": "code",
      "source": "def sortedSquares(nums):\n    result = []\n    \n    # Square each number and append to the result array\n    for num in nums:\n        result.append(num ** 2)\n    \n    # Sort the result array in non-decreasing order\n    result.sort()\n    \n    return result\n\n# Example usage:\nnums = [-4, -1, 0, 3, 10]\nresult = sortedSquares(nums)\nprint(result)  # Output: [0, 1, 9, 16, 100]\n",
      "metadata": {
        "trusted": true
      },
      "execution_count": 7,
      "outputs": [
        {
          "name": "stdout",
          "text": "[0, 1, 9, 16, 100]\n",
          "output_type": "stream"
        }
      ]
    },
    {
      "cell_type": "code",
      "source": "",
      "metadata": {},
      "execution_count": null,
      "outputs": []
    },
    {
      "cell_type": "markdown",
      "source": "4.Given two **0-indexed** integer arrays nums1 and nums2, return *a list* answer *of size* 2 *where:*\n\n- answer[0] *is a list of all **distinct** integers in* nums1 *which are **not** present in* nums2*.*\n- answer[1] *is a list of all **distinct** integers in* nums2 *which are **not** present in* nums1.\n\n**Note** that the integers in the lists may be returned in **any** order.\n\n**Example 1:**\n\n**Input:** nums1 = [1,2,3], nums2 = [2,4,6]\n\n**Output:** [[1,3],[4,6]]\n\n**Explanation:**\n\nFor nums1, nums1[1] = 2 is present at index 0 of nums2, whereas nums1[0] = 1 and nums1[2] = 3 are not present in nums2. Therefore, answer[0] = [1,3].\n\nFor nums2, nums2[0] = 2 is present at index 1 of nums1, whereas nums2[1] = 4 and nums2[2] = 6 are not present in nums2. Therefore, answer[1] = [4,6].",
      "metadata": {}
    },
    {
      "cell_type": "code",
      "source": "def findDisappearedNumbers(nums1, nums2):\n    nums1_set = set(nums1)\n    nums2_set = set(nums2)\n    \n    result1 = [num for num in nums1 if num not in nums2_set]\n    result2 = [num for num in nums2 if num not in nums1_set]\n    \n    return [result1, result2]\n\n# Example usage:\nnums1 = [1, 2, 3]\nnums2 = [2, 4, 6]\nresult = findDisappearedNumbers(nums1, nums2)\nprint(result)  # Output: [[1, 3], [4, 6]]\n",
      "metadata": {
        "trusted": true
      },
      "execution_count": 8,
      "outputs": [
        {
          "name": "stdout",
          "text": "[[1, 3], [4, 6]]\n",
          "output_type": "stream"
        }
      ]
    },
    {
      "cell_type": "code",
      "source": "",
      "metadata": {},
      "execution_count": null,
      "outputs": []
    },
    {
      "cell_type": "markdown",
      "source": "5.<aside>\n💡 **Question 5**\n\nGiven two integer arrays arr1 and arr2, and the integer d, *return the distance value between the two arrays*.\n\nThe distance value is defined as the number of elements arr1[i] such that there is not any element arr2[j] where |arr1[i]-arr2[j]| <= d.\n\n**Example 1:**\n\n**Input:** arr1 = [4,5,8], arr2 = [10,9,1,8], d = 2\n\n**Output:** 2\n\n**Explanation:**\n\nFor arr1[0]=4 we have:\n\n|4-10|=6 > d=2\n\n|4-9|=5 > d=2\n\n|4-1|=3 > d=2\n\n|4-8|=4 > d=2\n\nFor arr1[1]=5 we have:\n\n|5-10|=5 > d=2\n\n|5-9|=4 > d=2\n\n|5-1|=4 > d=2\n\n|5-8|=3 > d=2\n\nFor arr1[2]=8 we have:\n\n**|8-10|=2 <= d=2**\n\n**|8-9|=1 <= d=2**\n\n|8-1|=7 > d=2\n\n**|8-8|=0 <= d=2**\n\n</aside>",
      "metadata": {}
    },
    {
      "cell_type": "code",
      "source": "def findDistanceValue(arr1, arr2, d):\n    distance = 0\n    \n    for num1 in arr1:\n        for num2 in arr2:\n            if abs(num1 - num2) <= d:\n                break\n        else:\n            distance += 1\n    \n    return distance\n\n# Example usage:\narr1 = [4, 5, 8]\narr2 = [10, 9, 1, 8]\nd = 2\nresult = findDistanceValue(arr1, arr2, d)\nprint(result)  # Output: 2\n",
      "metadata": {
        "trusted": true
      },
      "execution_count": 9,
      "outputs": [
        {
          "name": "stdout",
          "text": "2\n",
          "output_type": "stream"
        }
      ]
    },
    {
      "cell_type": "code",
      "source": "",
      "metadata": {},
      "execution_count": null,
      "outputs": []
    },
    {
      "cell_type": "markdown",
      "source": "6.<aside>\n💡 **Question 6**\n\nGiven an integer array nums of length n where all the integers of nums are in the range [1, n] and each integer appears **once** or **twice**, return *an array of all the integers that appears **twice***.\n\nYou must write an algorithm that runs in O(n) time and uses only constant extra space.\n\n**Example 1:**\n\n**Input:** nums = [4,3,2,7,8,2,3,1]\n\n**Output:**\n\n[2,3]\n\n</aside>",
      "metadata": {}
    },
    {
      "cell_type": "code",
      "source": "def findDuplicates(nums):\n    result = []\n\n    for num in nums:\n        index = abs(num) - 1\n\n        if nums[index] < 0:\n            result.append(abs(num))\n        else:\n            nums[index] *= -1\n\n    return result\n\n# Example usage:\nnums = [4, 3, 2, 7, 8, 2, 3, 1]\nresult = findDuplicates(nums)\nprint(result)  # Output: [2, 3]\n",
      "metadata": {
        "trusted": true
      },
      "execution_count": 10,
      "outputs": [
        {
          "name": "stdout",
          "text": "[2, 3]\n",
          "output_type": "stream"
        }
      ]
    },
    {
      "cell_type": "code",
      "source": "",
      "metadata": {},
      "execution_count": null,
      "outputs": []
    },
    {
      "cell_type": "markdown",
      "source": "7.Suppose an array of length n sorted in ascending order is **rotated** between 1 and n times. For example, the array nums = [0,1,2,4,5,6,7] might become:\n\n- [4,5,6,7,0,1,2] if it was rotated 4 times.\n- [0,1,2,4,5,6,7] if it was rotated 7 times.\n\nNotice that **rotating** an array [a[0], a[1], a[2], ..., a[n-1]] 1 time results in the array [a[n-1], a[0], a[1], a[2], ..., a[n-2]].\n\nGiven the sorted rotated array nums of **unique** elements, return *the minimum element of this array*.\n\nYou must write an algorithm that runs in O(log n) time.\n\n**Example 1:**\n\n**Input:** nums = [3,4,5,1,2]\n\n**Output:** 1\n\n**Explanation:**\n\nThe original array was [1,2,3,4,5] rotated 3 times.",
      "metadata": {}
    },
    {
      "cell_type": "code",
      "source": "def findMin(nums):\n    left = 0\n    right = len(nums) - 1\n\n    while left < right:\n        mid = left + (right - left) // 2\n\n        if nums[mid] > nums[right]:\n            left = mid + 1\n        else:\n            right = mid\n\n    return nums[left]\n\n# Example usage:\nnums = [3, 4, 5, 1, 2]\nresult = findMin(nums)\nprint(result)  # Output: 1\n",
      "metadata": {
        "trusted": true
      },
      "execution_count": 11,
      "outputs": [
        {
          "name": "stdout",
          "text": "1\n",
          "output_type": "stream"
        }
      ]
    },
    {
      "cell_type": "code",
      "source": "",
      "metadata": {},
      "execution_count": null,
      "outputs": []
    },
    {
      "cell_type": "markdown",
      "source": "8.<aside>\n💡 **Question 8**\n\nAn integer array original is transformed into a **doubled** array changed by appending **twice the value** of every element in original, and then randomly **shuffling** the resulting array.\n\nGiven an array changed, return original *if* changed *is a **doubled** array. If* changed *is not a **doubled** array, return an empty array. The elements in* original *may be returned in **any** order*.\n\n**Example 1:**\n\n**Input:** changed = [1,3,4,2,6,8]\n\n**Output:** [1,3,4]\n\n**Explanation:** One possible original array could be [1,3,4]:\n\n- Twice the value of 1 is 1 * 2 = 2.\n- Twice the value of 3 is 3 * 2 = 6.\n- Twice the value of 4 is 4 * 2 = 8.\n\nOther original arrays could be [4,3,1] or [3,1,4].\n\n</aside>",
      "metadata": {}
    },
    {
      "cell_type": "code",
      "source": "import random\n\ndef findOriginalArray(changed):\n    if len(changed) % 2 != 0:\n        return []  \n    count = {}\n    for num in changed:\n        count[num] = count.get(num, 0) + 1\n\n    original = []\n    for num in sorted(changed):\n        if count[num] == 0: \n            continue\n        if count.get(num * 2, 0) == 0:\n            return [] \n\n        original.append(num)\n        count[num] -= 1\n        count[num * 2] -= 1\n\n    return original\n",
      "metadata": {
        "trusted": true
      },
      "execution_count": 4,
      "outputs": []
    },
    {
      "cell_type": "code",
      "source": "# Example usage:\nchanged = [1, 3, 4, 2, 6, 8]\nresult = findOriginalArray(changed)\nprint(result)\n\n",
      "metadata": {
        "trusted": true
      },
      "execution_count": 5,
      "outputs": [
        {
          "name": "stdout",
          "text": "[1, 3, 4]\n",
          "output_type": "stream"
        }
      ]
    },
    {
      "cell_type": "code",
      "source": "",
      "metadata": {},
      "execution_count": null,
      "outputs": []
    },
    {
      "cell_type": "code",
      "source": "",
      "metadata": {},
      "execution_count": null,
      "outputs": []
    },
    {
      "cell_type": "code",
      "source": "",
      "metadata": {},
      "execution_count": null,
      "outputs": []
    },
    {
      "cell_type": "code",
      "source": "",
      "metadata": {},
      "execution_count": null,
      "outputs": []
    },
    {
      "cell_type": "code",
      "source": "",
      "metadata": {},
      "execution_count": null,
      "outputs": []
    },
    {
      "cell_type": "code",
      "source": "",
      "metadata": {},
      "execution_count": null,
      "outputs": []
    }
  ]
}